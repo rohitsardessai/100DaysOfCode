{
 "cells": [
  {
   "cell_type": "code",
   "execution_count": 2,
   "metadata": {},
   "outputs": [],
   "source": [
    "import numpy as np\n",
    "import matplotlib.pyplot as plt"
   ]
  },
  {
   "cell_type": "code",
   "execution_count": 22,
   "metadata": {},
   "outputs": [
    {
     "name": "stdout",
     "output_type": "stream",
     "text": [
      "50\n"
     ]
    }
   ],
   "source": [
    "HT_PRIME_1 = 151\n",
    "HT_PRIME_2 = 173\n",
    "NUM_BUCKETS = 53\n",
    "\n",
    "def hash(str, prime, no_of_buckets) :\n",
    "    hash = 0\n",
    "    str_len = len(str)\n",
    "    for i,c in enumerate(str):\n",
    "        hash += (prime ** (str_len - (i + 1))) * ord(c)\n",
    "        hash = hash % no_of_buckets\n",
    "\n",
    "    return int(hash);\n",
    "\n",
    "def get_hash(str, no_of_buckets, attempt):\n",
    "    hash_a = hash(str, HT_PRIME_1, no_of_buckets)\n",
    "    hash_b = hash(str, HT_PRIME_2, no_of_buckets)\n",
    "    return (hash_a + (attempt * (hash_b + 1))) % no_of_buckets\n",
    "\n",
    "\n",
    "print(get_hash(\"hello\", NUM_BUCKETS, 0))"
   ]
  },
  {
   "cell_type": "code",
   "execution_count": 23,
   "metadata": {},
   "outputs": [],
   "source": [
    "def extract_words_from_file(file_path):\n",
    "    with open(file_path, 'r') as file:\n",
    "        paragraph = file.read()\n",
    "    \n",
    "    words = paragraph.split()\n",
    "    \n",
    "    words = [word.strip('.,!?') for word in words]\n",
    "    \n",
    "    return words\n",
    "\n",
    "file_path = 'paragraph.txt'\n",
    "word_list = extract_words_from_file(file_path)\n",
    "\n",
    "#word_list\n"
   ]
  },
  {
   "cell_type": "code",
   "execution_count": 24,
   "metadata": {},
   "outputs": [],
   "source": [
    "hashes = []\n",
    "\n",
    "for word in word_list:\n",
    "    attempt = 0\n",
    "    while True:\n",
    "        word_hash = get_hash(word, NUM_BUCKETS, attempt)\n",
    "        if word_hash not in hashes:\n",
    "            hashes.append(word_hash)\n",
    "            break\n",
    "        attempt += 1\n",
    "        if attempt >= NUM_BUCKETS:\n",
    "            break\n",
    "\n",
    "#hashes"
   ]
  },
  {
   "cell_type": "code",
   "execution_count": 25,
   "metadata": {},
   "outputs": [
    {
     "data": {
      "image/png": "[encoded data removed]",
      "text/plain": [
       "<Figure size 432x288 with 1 Axes>"
      ]
     },
     "metadata": {
      "needs_background": "light"
     },
     "output_type": "display_data"
    }
   ],
   "source": [
    "# Plotting the frequency distribution\n",
    "plt.hist(hashes, bins=NUM_BUCKETS, alpha=0.7, color='blue')\n",
    "plt.xlabel('Hash Value')\n",
    "plt.ylabel('Frequency')\n",
    "plt.title('Frequency Distribution of Hashes')\n",
    "# plt.grid(True)\n",
    "plt.show()"
   ]
  }
 ],
 "metadata": {
  "kernelspec": {
   "display_name": "base",
   "language": "python",
   "name": "python3"
  },
  "language_info": {
   "codemirror_mode": {
    "name": "ipython",
    "version": 3
   },
   "file_extension": ".py",
   "mimetype": "text/x-python",
   "name": "python",
   "nbconvert_exporter": "python",
   "pygments_lexer": "ipython3",
   "version": "3.9.12"
  },
  "orig_nbformat": 4
 },
 "nbformat": 4,
 "nbformat_minor": 2
}
